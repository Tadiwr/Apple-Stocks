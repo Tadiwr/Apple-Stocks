{
 "cells": [
  {
   "attachments": {},
   "cell_type": "markdown",
   "metadata": {},
   "source": [
    "# Exracting Data"
   ]
  },
  {
   "cell_type": "code",
   "execution_count": 1,
   "metadata": {},
   "outputs": [
    {
     "data": {
      "text/html": [
       "<div>\n",
       "<style scoped>\n",
       "    .dataframe tbody tr th:only-of-type {\n",
       "        vertical-align: middle;\n",
       "    }\n",
       "\n",
       "    .dataframe tbody tr th {\n",
       "        vertical-align: top;\n",
       "    }\n",
       "\n",
       "    .dataframe thead th {\n",
       "        text-align: right;\n",
       "    }\n",
       "</style>\n",
       "<table border=\"1\" class=\"dataframe\">\n",
       "  <thead>\n",
       "    <tr style=\"text-align: right;\">\n",
       "      <th></th>\n",
       "      <th>Date</th>\n",
       "      <th>Open</th>\n",
       "      <th>High</th>\n",
       "      <th>Low</th>\n",
       "      <th>Close</th>\n",
       "      <th>Adj Close</th>\n",
       "      <th>Volume</th>\n",
       "    </tr>\n",
       "  </thead>\n",
       "  <tbody>\n",
       "    <tr>\n",
       "      <th>0</th>\n",
       "      <td>1980-12-12</td>\n",
       "      <td>0.128348</td>\n",
       "      <td>0.128906</td>\n",
       "      <td>0.128348</td>\n",
       "      <td>0.128348</td>\n",
       "      <td>0.100178</td>\n",
       "      <td>469033600</td>\n",
       "    </tr>\n",
       "    <tr>\n",
       "      <th>1</th>\n",
       "      <td>1980-12-15</td>\n",
       "      <td>0.122210</td>\n",
       "      <td>0.122210</td>\n",
       "      <td>0.121652</td>\n",
       "      <td>0.121652</td>\n",
       "      <td>0.094952</td>\n",
       "      <td>175884800</td>\n",
       "    </tr>\n",
       "    <tr>\n",
       "      <th>2</th>\n",
       "      <td>1980-12-16</td>\n",
       "      <td>0.113281</td>\n",
       "      <td>0.113281</td>\n",
       "      <td>0.112723</td>\n",
       "      <td>0.112723</td>\n",
       "      <td>0.087983</td>\n",
       "      <td>105728000</td>\n",
       "    </tr>\n",
       "    <tr>\n",
       "      <th>3</th>\n",
       "      <td>1980-12-17</td>\n",
       "      <td>0.115513</td>\n",
       "      <td>0.116071</td>\n",
       "      <td>0.115513</td>\n",
       "      <td>0.115513</td>\n",
       "      <td>0.090160</td>\n",
       "      <td>86441600</td>\n",
       "    </tr>\n",
       "    <tr>\n",
       "      <th>4</th>\n",
       "      <td>1980-12-18</td>\n",
       "      <td>0.118862</td>\n",
       "      <td>0.119420</td>\n",
       "      <td>0.118862</td>\n",
       "      <td>0.118862</td>\n",
       "      <td>0.092774</td>\n",
       "      <td>73449600</td>\n",
       "    </tr>\n",
       "    <tr>\n",
       "      <th>...</th>\n",
       "      <td>...</td>\n",
       "      <td>...</td>\n",
       "      <td>...</td>\n",
       "      <td>...</td>\n",
       "      <td>...</td>\n",
       "      <td>...</td>\n",
       "      <td>...</td>\n",
       "    </tr>\n",
       "    <tr>\n",
       "      <th>10438</th>\n",
       "      <td>2022-05-06</td>\n",
       "      <td>156.009995</td>\n",
       "      <td>159.440002</td>\n",
       "      <td>154.179993</td>\n",
       "      <td>157.279999</td>\n",
       "      <td>157.279999</td>\n",
       "      <td>116055700</td>\n",
       "    </tr>\n",
       "    <tr>\n",
       "      <th>10439</th>\n",
       "      <td>2022-05-09</td>\n",
       "      <td>154.929993</td>\n",
       "      <td>155.830002</td>\n",
       "      <td>151.490005</td>\n",
       "      <td>152.059998</td>\n",
       "      <td>152.059998</td>\n",
       "      <td>131577900</td>\n",
       "    </tr>\n",
       "    <tr>\n",
       "      <th>10440</th>\n",
       "      <td>2022-05-10</td>\n",
       "      <td>155.520004</td>\n",
       "      <td>156.740005</td>\n",
       "      <td>152.929993</td>\n",
       "      <td>154.509995</td>\n",
       "      <td>154.509995</td>\n",
       "      <td>115366700</td>\n",
       "    </tr>\n",
       "    <tr>\n",
       "      <th>10441</th>\n",
       "      <td>2022-05-11</td>\n",
       "      <td>153.500000</td>\n",
       "      <td>155.449997</td>\n",
       "      <td>145.809998</td>\n",
       "      <td>146.500000</td>\n",
       "      <td>146.500000</td>\n",
       "      <td>142689800</td>\n",
       "    </tr>\n",
       "    <tr>\n",
       "      <th>10442</th>\n",
       "      <td>2022-05-12</td>\n",
       "      <td>142.770004</td>\n",
       "      <td>146.199997</td>\n",
       "      <td>138.800003</td>\n",
       "      <td>142.559998</td>\n",
       "      <td>142.559998</td>\n",
       "      <td>182271000</td>\n",
       "    </tr>\n",
       "  </tbody>\n",
       "</table>\n",
       "<p>10443 rows × 7 columns</p>\n",
       "</div>"
      ],
      "text/plain": [
       "             Date        Open        High         Low       Close   Adj Close  \\\n",
       "0      1980-12-12    0.128348    0.128906    0.128348    0.128348    0.100178   \n",
       "1      1980-12-15    0.122210    0.122210    0.121652    0.121652    0.094952   \n",
       "2      1980-12-16    0.113281    0.113281    0.112723    0.112723    0.087983   \n",
       "3      1980-12-17    0.115513    0.116071    0.115513    0.115513    0.090160   \n",
       "4      1980-12-18    0.118862    0.119420    0.118862    0.118862    0.092774   \n",
       "...           ...         ...         ...         ...         ...         ...   \n",
       "10438  2022-05-06  156.009995  159.440002  154.179993  157.279999  157.279999   \n",
       "10439  2022-05-09  154.929993  155.830002  151.490005  152.059998  152.059998   \n",
       "10440  2022-05-10  155.520004  156.740005  152.929993  154.509995  154.509995   \n",
       "10441  2022-05-11  153.500000  155.449997  145.809998  146.500000  146.500000   \n",
       "10442  2022-05-12  142.770004  146.199997  138.800003  142.559998  142.559998   \n",
       "\n",
       "          Volume  \n",
       "0      469033600  \n",
       "1      175884800  \n",
       "2      105728000  \n",
       "3       86441600  \n",
       "4       73449600  \n",
       "...          ...  \n",
       "10438  116055700  \n",
       "10439  131577900  \n",
       "10440  115366700  \n",
       "10441  142689800  \n",
       "10442  182271000  \n",
       "\n",
       "[10443 rows x 7 columns]"
      ]
     },
     "execution_count": 1,
     "metadata": {},
     "output_type": "execute_result"
    }
   ],
   "source": [
    "import pandas as pd\n",
    "from datetime import datetime \n",
    "import matplotlib.pyplot as plt\n",
    "import numpy as np\n",
    "\n",
    "# Extraction Stage\n",
    "all_time_stocks = pd.read_csv(\"./stocks-data.csv\")\n",
    "\n",
    "all_time_stocks"
   ]
  },
  {
   "attachments": {},
   "cell_type": "markdown",
   "metadata": {},
   "source": [
    "# Cleaning and Filtering Stage"
   ]
  },
  {
   "attachments": {},
   "cell_type": "markdown",
   "metadata": {},
   "source": [
    "Now we need to fliter the data set so that we only use the data we need which is in this case, the Dates and the Low pices"
   ]
  },
  {
   "cell_type": "code",
   "execution_count": 2,
   "metadata": {},
   "outputs": [
    {
     "data": {
      "text/html": [
       "<div>\n",
       "<style scoped>\n",
       "    .dataframe tbody tr th:only-of-type {\n",
       "        vertical-align: middle;\n",
       "    }\n",
       "\n",
       "    .dataframe tbody tr th {\n",
       "        vertical-align: top;\n",
       "    }\n",
       "\n",
       "    .dataframe thead th {\n",
       "        text-align: right;\n",
       "    }\n",
       "</style>\n",
       "<table border=\"1\" class=\"dataframe\">\n",
       "  <thead>\n",
       "    <tr style=\"text-align: right;\">\n",
       "      <th></th>\n",
       "      <th>Date</th>\n",
       "      <th>Low</th>\n",
       "    </tr>\n",
       "  </thead>\n",
       "  <tbody>\n",
       "    <tr>\n",
       "      <th>0</th>\n",
       "      <td>1980-12-12</td>\n",
       "      <td>0.128348</td>\n",
       "    </tr>\n",
       "    <tr>\n",
       "      <th>1</th>\n",
       "      <td>1980-12-15</td>\n",
       "      <td>0.121652</td>\n",
       "    </tr>\n",
       "    <tr>\n",
       "      <th>2</th>\n",
       "      <td>1980-12-16</td>\n",
       "      <td>0.112723</td>\n",
       "    </tr>\n",
       "    <tr>\n",
       "      <th>3</th>\n",
       "      <td>1980-12-17</td>\n",
       "      <td>0.115513</td>\n",
       "    </tr>\n",
       "    <tr>\n",
       "      <th>4</th>\n",
       "      <td>1980-12-18</td>\n",
       "      <td>0.118862</td>\n",
       "    </tr>\n",
       "    <tr>\n",
       "      <th>...</th>\n",
       "      <td>...</td>\n",
       "      <td>...</td>\n",
       "    </tr>\n",
       "    <tr>\n",
       "      <th>10438</th>\n",
       "      <td>2022-05-06</td>\n",
       "      <td>154.179993</td>\n",
       "    </tr>\n",
       "    <tr>\n",
       "      <th>10439</th>\n",
       "      <td>2022-05-09</td>\n",
       "      <td>151.490005</td>\n",
       "    </tr>\n",
       "    <tr>\n",
       "      <th>10440</th>\n",
       "      <td>2022-05-10</td>\n",
       "      <td>152.929993</td>\n",
       "    </tr>\n",
       "    <tr>\n",
       "      <th>10441</th>\n",
       "      <td>2022-05-11</td>\n",
       "      <td>145.809998</td>\n",
       "    </tr>\n",
       "    <tr>\n",
       "      <th>10442</th>\n",
       "      <td>2022-05-12</td>\n",
       "      <td>138.800003</td>\n",
       "    </tr>\n",
       "  </tbody>\n",
       "</table>\n",
       "<p>10443 rows × 2 columns</p>\n",
       "</div>"
      ],
      "text/plain": [
       "             Date         Low\n",
       "0      1980-12-12    0.128348\n",
       "1      1980-12-15    0.121652\n",
       "2      1980-12-16    0.112723\n",
       "3      1980-12-17    0.115513\n",
       "4      1980-12-18    0.118862\n",
       "...           ...         ...\n",
       "10438  2022-05-06  154.179993\n",
       "10439  2022-05-09  151.490005\n",
       "10440  2022-05-10  152.929993\n",
       "10441  2022-05-11  145.809998\n",
       "10442  2022-05-12  138.800003\n",
       "\n",
       "[10443 rows x 2 columns]"
      ]
     },
     "execution_count": 2,
     "metadata": {},
     "output_type": "execute_result"
    }
   ],
   "source": [
    "# filtering the all time stocks to only show the date and low\n",
    "all_time_stocks = all_time_stocks.filter([\"Date\", \"Low\"])\n",
    "all_time_stocks"
   ]
  },
  {
   "attachments": {},
   "cell_type": "markdown",
   "metadata": {},
   "source": [
    "Dates and Stock Value Format"
   ]
  },
  {
   "cell_type": "code",
   "execution_count": 3,
   "metadata": {},
   "outputs": [],
   "source": [
    "all_time_stocks.values[0][0] # Date Value\n",
    "date_format = \"%Y-%m-%d\""
   ]
  },
  {
   "cell_type": "code",
   "execution_count": 4,
   "metadata": {},
   "outputs": [
    {
     "data": {
      "text/plain": [
       "0.121652"
      ]
     },
     "execution_count": 4,
     "metadata": {},
     "output_type": "execute_result"
    }
   ],
   "source": [
    "all_time_stocks.values[1][1] # Stock Price Value"
   ]
  },
  {
   "attachments": {},
   "cell_type": "markdown",
   "metadata": {},
   "source": [
    "#### Getting Stock Prices for only one given year"
   ]
  },
  {
   "cell_type": "code",
   "execution_count": 5,
   "metadata": {},
   "outputs": [],
   "source": [
    "def getYearStocks(year:int):\n",
    "    dates = []\n",
    "    prices = []\n",
    "\n",
    "    # Validate year value  \n",
    "    if year > 9999 or year < 1:\n",
    "        raise Exception(\n",
    "            \"Invalid year value: Year value must be between 1 and 9999 inclusive\"\n",
    "        )\n",
    "    \n",
    "\n",
    "    for count in range(all_time_stocks[\"Date\"].size):\n",
    "\n",
    "        # converting string date vale in date object\n",
    "        date = datetime.strptime(all_time_stocks.values[count][0], date_format).date()\n",
    "        \n",
    "        if date.year == year:\n",
    "            dates.append(all_time_stocks[\"Date\"][count])\n",
    "            prices.append(all_time_stocks[\"Low\"][count])\n",
    "    \n",
    "    return pd.DataFrame({\n",
    "        'Date': dates,\n",
    "        'Low':prices\n",
    "    })"
   ]
  },
  {
   "attachments": {},
   "cell_type": "markdown",
   "metadata": {},
   "source": [
    "# Data Wrangling"
   ]
  },
  {
   "attachments": {},
   "cell_type": "markdown",
   "metadata": {},
   "source": [
    "There are 365 days in a normal year and 366 in a leap year. Inorder to make it easier to analyze our data we need to average our stock prices for each month to make it more readable\n",
    "\n",
    "So the next step is averaging the stock prices for each month"
   ]
  },
  {
   "cell_type": "code",
   "execution_count": 6,
   "metadata": {},
   "outputs": [],
   "source": [
    "#Algorythm to find average for a month\n",
    "def getAverage(months_prices:list[float]) -> float:\n",
    "    count = len(months_prices)\n",
    "    average = 0\n",
    "    total = 0\n",
    "\n",
    "    if len(months_prices) == 0:\n",
    "        raise Exception(\"Months Price list cannot be empty\")\n",
    "\n",
    "    for item in months_prices:\n",
    "        total += item\n",
    "    \n",
    "    average = total / count\n",
    "    return average"
   ]
  },
  {
   "attachments": {},
   "cell_type": "markdown",
   "metadata": {},
   "source": [
    "Now the next step is actually generating a years average monthy stock prices and ploting them on a graph"
   ]
  },
  {
   "cell_type": "code",
   "execution_count": 7,
   "metadata": {},
   "outputs": [],
   "source": [
    "def getAverageYearlyStock(year:int):\n",
    "\n",
    "    yearly_stocks = getYearStocks(year)\n",
    "\n",
    "    average_prices = []\n",
    "    months = [ \"Jan\", \"Feb\", \"Mar\" , \"Apr\", \"May\", \"Jun\",\n",
    "        \"Jly\", \"Aug\",\"Sept\", \"Oct\", \"Nov\", \"Dec\"\n",
    "    ]\n",
    "\n",
    "    days = []\n",
    "    actualMonths = []\n",
    "\n",
    "    for day in yearly_stocks[\"Date\"]:\n",
    "        days.append(day)\n",
    "\n",
    "    # get number of months in year\n",
    "    num_months = datetime.strptime(days[-1], date_format).date().month\n",
    "\n",
    "    for i in range(num_months):\n",
    "        actualMonths.append(months[i])\n",
    "\n",
    "    for m in range(1, num_months + 1):\n",
    "        prices_in_month = []\n",
    "        for day in days:\n",
    "            if datetime.strptime(day, date_format).date().month == m:\n",
    "                id = days.index(day)\n",
    "                prices_in_month.append(yearly_stocks[\"Low\"][id])\n",
    "        \n",
    "        average_prices.append(getAverage(prices_in_month))\n",
    "\n",
    "    plt.plot(\n",
    "        actualMonths,\n",
    "        average_prices,\n",
    "        linestyle='--',\n",
    "        label=str(year),\n",
    "        marker='o'\n",
    "    )\n",
    "\n",
    "    plt.title(f\"Average Apple Stock for {year}\")\n"
   ]
  },
  {
   "attachments": {},
   "cell_type": "markdown",
   "metadata": {},
   "source": [
    "# Visualization \n",
    "Finnally the data can be viewed and analyzed"
   ]
  },
  {
   "cell_type": "code",
   "execution_count": 8,
   "metadata": {},
   "outputs": [
    {
     "data": {
      "text/plain": [
       "<matplotlib.legend.Legend at 0x170ca691650>"
      ]
     },
     "execution_count": 8,
     "metadata": {},
     "output_type": "execute_result"
    },
    {
     "data": {
      "image/png": "[encoded data removed]",
      "text/plain": [
       "<Figure size 640x480 with 1 Axes>"
      ]
     },
     "metadata": {},
     "output_type": "display_data"
    }
   ],
   "source": [
    "\n",
    "\n",
    "getAverageYearlyStock(2021)\n",
    "plt.legend(loc='best')"
   ]
  }
 ],
 "metadata": {
  "kernelspec": {
   "display_name": "Python 3",
   "language": "python",
   "name": "python3"
  },
  "language_info": {
   "codemirror_mode": {
    "name": "ipython",
    "version": 3
   },
   "file_extension": ".py",
   "mimetype": "text/x-python",
   "name": "python",
   "nbconvert_exporter": "python",
   "pygments_lexer": "ipython3",
   "version": "3.11.1 (tags/v3.11.1:a7a450f, Dec  6 2022, 19:58:39) [MSC v.1934 64 bit (AMD64)]"
  },
  "orig_nbformat": 4,
  "vscode": {
   "interpreter": {
    "hash": "5238573367df39f7286bb46f9ff5f08f63a01a80960060ce41e3c79b190280fa"
   }
  }
 },
 "nbformat": 4,
 "nbformat_minor": 2
}
